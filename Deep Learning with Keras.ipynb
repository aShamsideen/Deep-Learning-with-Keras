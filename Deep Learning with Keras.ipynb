{
 "cells": [
  {
   "cell_type": "code",
   "execution_count": 1,
   "id": "1667e83b",
   "metadata": {},
   "outputs": [],
   "source": [
    "# Load libraries \n",
    "from numpy import loadtxt\n",
    "from tensorflow.keras.models import Sequential\n",
    "from tensorflow.keras.layers import Dense"
   ]
  },
  {
   "cell_type": "code",
   "execution_count": 18,
   "id": "0c409ae9",
   "metadata": {},
   "outputs": [],
   "source": [
    "# Load the dataset\n",
    "dataset = loadtxt('pima-indians-diabetes.data.csv', delimiter=',')\n",
    "\n",
    "# Split the dataset into input and output element\n",
    "x = dataset[:, 0:8]\n",
    "y = dataset[:,8]"
   ]
  },
  {
   "cell_type": "code",
   "execution_count": 3,
   "id": "61a70501",
   "metadata": {},
   "outputs": [],
   "source": [
    "# Define model and add layers\n",
    "model = Sequential()\n",
    "model.add(Dense(12, input_shape=(8,), activation='relu'))\n",
    "model.add(Dense(8, activation='relu'))\n",
    "model.add(Dense(1, activation='sigmoid'))"
   ]
  },
  {
   "cell_type": "code",
   "execution_count": 5,
   "id": "5bfe178c",
   "metadata": {},
   "outputs": [],
   "source": [
    "# Compile the model\n",
    "model.compile(loss='binary_crossentropy', optimizer='adam', metrics=['accuracy'])"
   ]
  },
  {
   "cell_type": "code",
   "execution_count": 6,
   "id": "792b5d9a",
   "metadata": {},
   "outputs": [
    {
     "name": "stdout",
     "output_type": "stream",
     "text": [
      "Epoch 1/150\n",
      "77/77 [==============================] - 3s 4ms/step - loss: 15.3106 - accuracy: 0.3542\n",
      "Epoch 2/150\n",
      "77/77 [==============================] - 0s 3ms/step - loss: 1.7213 - accuracy: 0.6042\n",
      "Epoch 3/150\n",
      "77/77 [==============================] - 0s 3ms/step - loss: 1.3396 - accuracy: 0.5977\n",
      "Epoch 4/150\n",
      "77/77 [==============================] - 2s 25ms/step - loss: 1.1918 - accuracy: 0.6081\n",
      "Epoch 5/150\n",
      "77/77 [==============================] - 0s 3ms/step - loss: 0.9745 - accuracy: 0.6081\n",
      "Epoch 6/150\n",
      "77/77 [==============================] - 0s 3ms/step - loss: 0.8720 - accuracy: 0.6185\n",
      "Epoch 7/150\n",
      "77/77 [==============================] - 0s 3ms/step - loss: 0.7953 - accuracy: 0.6211\n",
      "Epoch 8/150\n",
      "77/77 [==============================] - 0s 3ms/step - loss: 0.7711 - accuracy: 0.6185\n",
      "Epoch 9/150\n",
      "77/77 [==============================] - 0s 3ms/step - loss: 0.7414 - accuracy: 0.6393\n",
      "Epoch 10/150\n",
      "77/77 [==============================] - 0s 3ms/step - loss: 0.7341 - accuracy: 0.6497\n",
      "Epoch 11/150\n",
      "77/77 [==============================] - 0s 3ms/step - loss: 0.7394 - accuracy: 0.6484\n",
      "Epoch 12/150\n",
      "77/77 [==============================] - 0s 3ms/step - loss: 0.6856 - accuracy: 0.6667\n",
      "Epoch 13/150\n",
      "77/77 [==============================] - 0s 3ms/step - loss: 0.6868 - accuracy: 0.6706\n",
      "Epoch 14/150\n",
      "77/77 [==============================] - 0s 3ms/step - loss: 0.6635 - accuracy: 0.6849\n",
      "Epoch 15/150\n",
      "77/77 [==============================] - 0s 3ms/step - loss: 0.6779 - accuracy: 0.6719\n",
      "Epoch 16/150\n",
      "77/77 [==============================] - 0s 3ms/step - loss: 0.7032 - accuracy: 0.6680\n",
      "Epoch 17/150\n",
      "77/77 [==============================] - 0s 4ms/step - loss: 0.6619 - accuracy: 0.6706\n",
      "Epoch 18/150\n",
      "77/77 [==============================] - 0s 4ms/step - loss: 0.6334 - accuracy: 0.6849\n",
      "Epoch 19/150\n",
      "77/77 [==============================] - 0s 3ms/step - loss: 0.6196 - accuracy: 0.7109\n",
      "Epoch 20/150\n",
      "77/77 [==============================] - 0s 3ms/step - loss: 0.6235 - accuracy: 0.6966\n",
      "Epoch 21/150\n",
      "77/77 [==============================] - 0s 3ms/step - loss: 0.6137 - accuracy: 0.7070\n",
      "Epoch 22/150\n",
      "77/77 [==============================] - 0s 4ms/step - loss: 0.6281 - accuracy: 0.7057\n",
      "Epoch 23/150\n",
      "77/77 [==============================] - 0s 4ms/step - loss: 0.6032 - accuracy: 0.7174\n",
      "Epoch 24/150\n",
      "77/77 [==============================] - 0s 3ms/step - loss: 0.6211 - accuracy: 0.7096\n",
      "Epoch 25/150\n",
      "77/77 [==============================] - 0s 3ms/step - loss: 0.6139 - accuracy: 0.7148\n",
      "Epoch 26/150\n",
      "77/77 [==============================] - 0s 3ms/step - loss: 0.6608 - accuracy: 0.6836\n",
      "Epoch 27/150\n",
      "77/77 [==============================] - 0s 3ms/step - loss: 0.6175 - accuracy: 0.7174\n",
      "Epoch 28/150\n",
      "77/77 [==============================] - 0s 3ms/step - loss: 0.6144 - accuracy: 0.7161\n",
      "Epoch 29/150\n",
      "77/77 [==============================] - 0s 4ms/step - loss: 0.6135 - accuracy: 0.7174\n",
      "Epoch 30/150\n",
      "77/77 [==============================] - 0s 4ms/step - loss: 0.5886 - accuracy: 0.7070\n",
      "Epoch 31/150\n",
      "77/77 [==============================] - 0s 4ms/step - loss: 0.5791 - accuracy: 0.7227\n",
      "Epoch 32/150\n",
      "77/77 [==============================] - 0s 4ms/step - loss: 0.5927 - accuracy: 0.7174\n",
      "Epoch 33/150\n",
      "77/77 [==============================] - 0s 4ms/step - loss: 0.5993 - accuracy: 0.7174\n",
      "Epoch 34/150\n",
      "77/77 [==============================] - 0s 4ms/step - loss: 0.5884 - accuracy: 0.7214\n",
      "Epoch 35/150\n",
      "77/77 [==============================] - 0s 3ms/step - loss: 0.6118 - accuracy: 0.6992\n",
      "Epoch 36/150\n",
      "77/77 [==============================] - 0s 4ms/step - loss: 0.5910 - accuracy: 0.7135\n",
      "Epoch 37/150\n",
      "77/77 [==============================] - 0s 4ms/step - loss: 0.5835 - accuracy: 0.7227\n",
      "Epoch 38/150\n",
      "77/77 [==============================] - 0s 3ms/step - loss: 0.5778 - accuracy: 0.7253\n",
      "Epoch 39/150\n",
      "77/77 [==============================] - 0s 3ms/step - loss: 0.5765 - accuracy: 0.7227\n",
      "Epoch 40/150\n",
      "77/77 [==============================] - 0s 3ms/step - loss: 0.5625 - accuracy: 0.7279\n",
      "Epoch 41/150\n",
      "77/77 [==============================] - 0s 3ms/step - loss: 0.5626 - accuracy: 0.7266\n",
      "Epoch 42/150\n",
      "77/77 [==============================] - 0s 3ms/step - loss: 0.5619 - accuracy: 0.7240\n",
      "Epoch 43/150\n",
      "77/77 [==============================] - 0s 3ms/step - loss: 0.5672 - accuracy: 0.7305\n",
      "Epoch 44/150\n",
      "77/77 [==============================] - 0s 3ms/step - loss: 0.5549 - accuracy: 0.7448\n",
      "Epoch 45/150\n",
      "77/77 [==============================] - 0s 3ms/step - loss: 0.5804 - accuracy: 0.7201\n",
      "Epoch 46/150\n",
      "77/77 [==============================] - 0s 3ms/step - loss: 0.5674 - accuracy: 0.7344\n",
      "Epoch 47/150\n",
      "77/77 [==============================] - 0s 3ms/step - loss: 0.5554 - accuracy: 0.7370\n",
      "Epoch 48/150\n",
      "77/77 [==============================] - 0s 3ms/step - loss: 0.5519 - accuracy: 0.7474\n",
      "Epoch 49/150\n",
      "77/77 [==============================] - 0s 3ms/step - loss: 0.5569 - accuracy: 0.7318\n",
      "Epoch 50/150\n",
      "77/77 [==============================] - 0s 3ms/step - loss: 0.5483 - accuracy: 0.7435\n",
      "Epoch 51/150\n",
      "77/77 [==============================] - 0s 3ms/step - loss: 0.5587 - accuracy: 0.7383\n",
      "Epoch 52/150\n",
      "77/77 [==============================] - 0s 3ms/step - loss: 0.5554 - accuracy: 0.7409\n",
      "Epoch 53/150\n",
      "77/77 [==============================] - 0s 3ms/step - loss: 0.5544 - accuracy: 0.7253\n",
      "Epoch 54/150\n",
      "77/77 [==============================] - 0s 3ms/step - loss: 0.5754 - accuracy: 0.7174\n",
      "Epoch 55/150\n",
      "77/77 [==============================] - 0s 3ms/step - loss: 0.5581 - accuracy: 0.7448\n",
      "Epoch 56/150\n",
      "77/77 [==============================] - 0s 3ms/step - loss: 0.5514 - accuracy: 0.7435\n",
      "Epoch 57/150\n",
      "77/77 [==============================] - 0s 3ms/step - loss: 0.5632 - accuracy: 0.7461\n",
      "Epoch 58/150\n",
      "77/77 [==============================] - 0s 3ms/step - loss: 0.5600 - accuracy: 0.7318\n",
      "Epoch 59/150\n",
      "77/77 [==============================] - 0s 3ms/step - loss: 0.5415 - accuracy: 0.7526\n",
      "Epoch 60/150\n",
      "77/77 [==============================] - 0s 3ms/step - loss: 0.5250 - accuracy: 0.7396\n",
      "Epoch 61/150\n",
      "77/77 [==============================] - 0s 3ms/step - loss: 0.5388 - accuracy: 0.7370\n",
      "Epoch 62/150\n",
      "77/77 [==============================] - 0s 3ms/step - loss: 0.5527 - accuracy: 0.7331\n",
      "Epoch 63/150\n",
      "77/77 [==============================] - 0s 4ms/step - loss: 0.5457 - accuracy: 0.7422\n",
      "Epoch 64/150\n",
      "77/77 [==============================] - 0s 4ms/step - loss: 0.5500 - accuracy: 0.7422\n",
      "Epoch 65/150\n",
      "77/77 [==============================] - 0s 4ms/step - loss: 0.5384 - accuracy: 0.7500\n",
      "Epoch 66/150\n",
      "77/77 [==============================] - 0s 4ms/step - loss: 0.5322 - accuracy: 0.7396\n",
      "Epoch 67/150\n",
      "77/77 [==============================] - 0s 3ms/step - loss: 0.5446 - accuracy: 0.7396\n",
      "Epoch 68/150\n",
      "77/77 [==============================] - 0s 3ms/step - loss: 0.5524 - accuracy: 0.7305\n",
      "Epoch 69/150\n",
      "77/77 [==============================] - 0s 3ms/step - loss: 0.5625 - accuracy: 0.7201\n",
      "Epoch 70/150\n",
      "77/77 [==============================] - 0s 3ms/step - loss: 0.5496 - accuracy: 0.7357\n",
      "Epoch 71/150\n",
      "77/77 [==============================] - 0s 3ms/step - loss: 0.5268 - accuracy: 0.7526\n",
      "Epoch 72/150\n",
      "77/77 [==============================] - 0s 3ms/step - loss: 0.5366 - accuracy: 0.7344\n",
      "Epoch 73/150\n",
      "77/77 [==============================] - 0s 3ms/step - loss: 0.5439 - accuracy: 0.7474\n",
      "Epoch 74/150\n",
      "77/77 [==============================] - 0s 3ms/step - loss: 0.5518 - accuracy: 0.7370\n",
      "Epoch 75/150\n",
      "77/77 [==============================] - 0s 3ms/step - loss: 0.5447 - accuracy: 0.7435\n",
      "Epoch 76/150\n",
      "77/77 [==============================] - 0s 3ms/step - loss: 0.5171 - accuracy: 0.7409\n",
      "Epoch 77/150\n",
      "77/77 [==============================] - 0s 3ms/step - loss: 0.5250 - accuracy: 0.7461\n",
      "Epoch 78/150\n",
      "77/77 [==============================] - 0s 4ms/step - loss: 0.5383 - accuracy: 0.7500\n",
      "Epoch 79/150\n",
      "77/77 [==============================] - 0s 3ms/step - loss: 0.5849 - accuracy: 0.7188\n",
      "Epoch 80/150\n",
      "77/77 [==============================] - 0s 4ms/step - loss: 0.5299 - accuracy: 0.7331\n",
      "Epoch 81/150\n",
      "77/77 [==============================] - 0s 4ms/step - loss: 0.5218 - accuracy: 0.7422\n",
      "Epoch 82/150\n",
      "77/77 [==============================] - 0s 4ms/step - loss: 0.5293 - accuracy: 0.7383\n"
     ]
    },
    {
     "name": "stdout",
     "output_type": "stream",
     "text": [
      "Epoch 83/150\n",
      "77/77 [==============================] - 0s 3ms/step - loss: 0.5133 - accuracy: 0.7604\n",
      "Epoch 84/150\n",
      "77/77 [==============================] - 0s 3ms/step - loss: 0.5199 - accuracy: 0.7500\n",
      "Epoch 85/150\n",
      "77/77 [==============================] - 0s 3ms/step - loss: 0.5506 - accuracy: 0.7344\n",
      "Epoch 86/150\n",
      "77/77 [==============================] - 0s 3ms/step - loss: 0.5352 - accuracy: 0.7552\n",
      "Epoch 87/150\n",
      "77/77 [==============================] - 0s 3ms/step - loss: 0.5319 - accuracy: 0.7448\n",
      "Epoch 88/150\n",
      "77/77 [==============================] - 0s 3ms/step - loss: 0.5208 - accuracy: 0.7448\n",
      "Epoch 89/150\n",
      "77/77 [==============================] - 0s 3ms/step - loss: 0.5218 - accuracy: 0.7552\n",
      "Epoch 90/150\n",
      "77/77 [==============================] - 0s 3ms/step - loss: 0.5293 - accuracy: 0.7474\n",
      "Epoch 91/150\n",
      "77/77 [==============================] - 0s 3ms/step - loss: 0.5283 - accuracy: 0.7383\n",
      "Epoch 92/150\n",
      "77/77 [==============================] - 0s 3ms/step - loss: 0.5201 - accuracy: 0.7448\n",
      "Epoch 93/150\n",
      "77/77 [==============================] - 0s 3ms/step - loss: 0.5087 - accuracy: 0.7591\n",
      "Epoch 94/150\n",
      "77/77 [==============================] - 0s 4ms/step - loss: 0.5314 - accuracy: 0.7396\n",
      "Epoch 95/150\n",
      "77/77 [==============================] - 0s 3ms/step - loss: 0.5219 - accuracy: 0.7552\n",
      "Epoch 96/150\n",
      "77/77 [==============================] - 0s 4ms/step - loss: 0.5009 - accuracy: 0.7734\n",
      "Epoch 97/150\n",
      "77/77 [==============================] - 0s 4ms/step - loss: 0.5123 - accuracy: 0.7604\n",
      "Epoch 98/150\n",
      "77/77 [==============================] - 0s 3ms/step - loss: 0.5225 - accuracy: 0.7461\n",
      "Epoch 99/150\n",
      "77/77 [==============================] - 0s 3ms/step - loss: 0.5201 - accuracy: 0.7773\n",
      "Epoch 100/150\n",
      "77/77 [==============================] - 0s 3ms/step - loss: 0.5068 - accuracy: 0.7578\n",
      "Epoch 101/150\n",
      "77/77 [==============================] - 0s 3ms/step - loss: 0.5087 - accuracy: 0.7578\n",
      "Epoch 102/150\n",
      "77/77 [==============================] - 0s 3ms/step - loss: 0.5220 - accuracy: 0.7578\n",
      "Epoch 103/150\n",
      "77/77 [==============================] - 0s 3ms/step - loss: 0.5076 - accuracy: 0.7591\n",
      "Epoch 104/150\n",
      "77/77 [==============================] - 0s 3ms/step - loss: 0.5058 - accuracy: 0.7396\n",
      "Epoch 105/150\n",
      "77/77 [==============================] - 0s 3ms/step - loss: 0.5141 - accuracy: 0.7565\n",
      "Epoch 106/150\n",
      "77/77 [==============================] - 0s 3ms/step - loss: 0.5090 - accuracy: 0.7591\n",
      "Epoch 107/150\n",
      "77/77 [==============================] - 0s 3ms/step - loss: 0.5076 - accuracy: 0.7604\n",
      "Epoch 108/150\n",
      "77/77 [==============================] - 0s 3ms/step - loss: 0.5034 - accuracy: 0.7604\n",
      "Epoch 109/150\n",
      "77/77 [==============================] - 0s 3ms/step - loss: 0.5413 - accuracy: 0.7383\n",
      "Epoch 110/150\n",
      "77/77 [==============================] - 0s 3ms/step - loss: 0.5146 - accuracy: 0.7539\n",
      "Epoch 111/150\n",
      "77/77 [==============================] - 0s 3ms/step - loss: 0.4979 - accuracy: 0.7630\n",
      "Epoch 112/150\n",
      "77/77 [==============================] - 0s 3ms/step - loss: 0.5148 - accuracy: 0.7578\n",
      "Epoch 113/150\n",
      "77/77 [==============================] - 0s 3ms/step - loss: 0.5014 - accuracy: 0.7669\n",
      "Epoch 114/150\n",
      "77/77 [==============================] - 0s 3ms/step - loss: 0.5069 - accuracy: 0.7526\n",
      "Epoch 115/150\n",
      "77/77 [==============================] - 0s 3ms/step - loss: 0.5166 - accuracy: 0.7409\n",
      "Epoch 116/150\n",
      "77/77 [==============================] - 0s 3ms/step - loss: 0.4948 - accuracy: 0.7669\n",
      "Epoch 117/150\n",
      "77/77 [==============================] - 0s 3ms/step - loss: 0.4904 - accuracy: 0.7643\n",
      "Epoch 118/150\n",
      "77/77 [==============================] - 0s 3ms/step - loss: 0.5002 - accuracy: 0.7565\n",
      "Epoch 119/150\n",
      "77/77 [==============================] - 0s 3ms/step - loss: 0.4991 - accuracy: 0.7604\n",
      "Epoch 120/150\n",
      "77/77 [==============================] - 0s 3ms/step - loss: 0.4901 - accuracy: 0.7656\n",
      "Epoch 121/150\n",
      "77/77 [==============================] - 0s 3ms/step - loss: 0.4952 - accuracy: 0.7578\n",
      "Epoch 122/150\n",
      "77/77 [==============================] - 0s 3ms/step - loss: 0.4951 - accuracy: 0.7721\n",
      "Epoch 123/150\n",
      "77/77 [==============================] - 0s 3ms/step - loss: 0.5077 - accuracy: 0.7435\n",
      "Epoch 124/150\n",
      "77/77 [==============================] - 0s 3ms/step - loss: 0.4971 - accuracy: 0.7578\n",
      "Epoch 125/150\n",
      "77/77 [==============================] - 0s 3ms/step - loss: 0.5063 - accuracy: 0.7461\n",
      "Epoch 126/150\n",
      "77/77 [==============================] - 0s 3ms/step - loss: 0.4987 - accuracy: 0.7578\n",
      "Epoch 127/150\n",
      "77/77 [==============================] - 0s 3ms/step - loss: 0.5008 - accuracy: 0.7513\n",
      "Epoch 128/150\n",
      "77/77 [==============================] - 0s 3ms/step - loss: 0.4959 - accuracy: 0.7656\n",
      "Epoch 129/150\n",
      "77/77 [==============================] - 0s 3ms/step - loss: 0.5008 - accuracy: 0.7643\n",
      "Epoch 130/150\n",
      "77/77 [==============================] - 0s 3ms/step - loss: 0.5121 - accuracy: 0.7643\n",
      "Epoch 131/150\n",
      "77/77 [==============================] - 0s 3ms/step - loss: 0.5042 - accuracy: 0.7630\n",
      "Epoch 132/150\n",
      "77/77 [==============================] - 0s 3ms/step - loss: 0.4974 - accuracy: 0.7695\n",
      "Epoch 133/150\n",
      "77/77 [==============================] - 0s 3ms/step - loss: 0.4929 - accuracy: 0.7734\n",
      "Epoch 134/150\n",
      "77/77 [==============================] - 0s 3ms/step - loss: 0.4919 - accuracy: 0.7617\n",
      "Epoch 135/150\n",
      "77/77 [==============================] - 0s 3ms/step - loss: 0.4847 - accuracy: 0.7734\n",
      "Epoch 136/150\n",
      "77/77 [==============================] - 0s 3ms/step - loss: 0.4893 - accuracy: 0.7682\n",
      "Epoch 137/150\n",
      "77/77 [==============================] - 0s 3ms/step - loss: 0.4952 - accuracy: 0.7591\n",
      "Epoch 138/150\n",
      "77/77 [==============================] - 0s 3ms/step - loss: 0.5001 - accuracy: 0.7591\n",
      "Epoch 139/150\n",
      "77/77 [==============================] - 0s 3ms/step - loss: 0.5020 - accuracy: 0.7578\n",
      "Epoch 140/150\n",
      "77/77 [==============================] - 0s 3ms/step - loss: 0.5054 - accuracy: 0.7591\n",
      "Epoch 141/150\n",
      "77/77 [==============================] - 0s 3ms/step - loss: 0.4699 - accuracy: 0.7760\n",
      "Epoch 142/150\n",
      "77/77 [==============================] - 0s 4ms/step - loss: 0.4828 - accuracy: 0.7760\n",
      "Epoch 143/150\n",
      "77/77 [==============================] - 0s 3ms/step - loss: 0.4915 - accuracy: 0.7695\n",
      "Epoch 144/150\n",
      "77/77 [==============================] - 0s 3ms/step - loss: 0.4899 - accuracy: 0.7643\n",
      "Epoch 145/150\n",
      "77/77 [==============================] - 0s 3ms/step - loss: 0.4852 - accuracy: 0.7839\n",
      "Epoch 146/150\n",
      "77/77 [==============================] - 0s 4ms/step - loss: 0.5074 - accuracy: 0.7487\n",
      "Epoch 147/150\n",
      "77/77 [==============================] - 0s 4ms/step - loss: 0.4858 - accuracy: 0.7682\n",
      "Epoch 148/150\n",
      "77/77 [==============================] - 0s 4ms/step - loss: 0.4954 - accuracy: 0.7773\n",
      "Epoch 149/150\n",
      "77/77 [==============================] - 0s 3ms/step - loss: 0.4891 - accuracy: 0.7773\n",
      "Epoch 150/150\n",
      "77/77 [==============================] - 0s 3ms/step - loss: 0.4852 - accuracy: 0.7682\n"
     ]
    },
    {
     "data": {
      "text/plain": [
       "<keras.callbacks.History at 0x2097cf32880>"
      ]
     },
     "execution_count": 6,
     "metadata": {},
     "output_type": "execute_result"
    }
   ],
   "source": [
    "# Fit the model\n",
    "model.fit(x, y, epochs=150, batch_size=10)"
   ]
  },
  {
   "cell_type": "code",
   "execution_count": 20,
   "id": "20352e9c",
   "metadata": {},
   "outputs": [
    {
     "name": "stdout",
     "output_type": "stream",
     "text": [
      "24/24 [==============================] - 0s 4ms/step - loss: 0.4548 - accuracy: 0.7995\n",
      "Accuracy: 79.95\n"
     ]
    }
   ],
   "source": [
    "# Evaluate model\n",
    "_, accuracy = model.evaluate(x, y)\n",
    "print('Accuracy: %.2f' % (accuracy*100))"
   ]
  },
  {
   "cell_type": "code",
   "execution_count": 8,
   "id": "3fd837dc",
   "metadata": {},
   "outputs": [
    {
     "data": {
      "text/plain": [
       "<keras.callbacks.History at 0x2097f6742e0>"
      ]
     },
     "execution_count": 8,
     "metadata": {},
     "output_type": "execute_result"
    }
   ],
   "source": [
    "model.fit(x, y, epochs=150, batch_size=10, verbose=0)"
   ]
  },
  {
   "cell_type": "code",
   "execution_count": 11,
   "id": "dd8c382c",
   "metadata": {},
   "outputs": [
    {
     "name": "stdout",
     "output_type": "stream",
     "text": [
      "Accuracy: 79.95\n"
     ]
    }
   ],
   "source": [
    "_, accuracy = model.evaluate(x, y, verbose=0)\n",
    "print('Accuracy: %.2f' % (accuracy*100))"
   ]
  },
  {
   "cell_type": "code",
   "execution_count": 19,
   "id": "6514f075",
   "metadata": {},
   "outputs": [
    {
     "name": "stdout",
     "output_type": "stream",
     "text": [
      "24/24 [==============================] - 0s 4ms/step\n"
     ]
    }
   ],
   "source": [
    "# Make predictions with the model\n",
    "predictions = model.predict(x)\n",
    "rounded = [round(x[0]) for x in predictions]"
   ]
  },
  {
   "cell_type": "code",
   "execution_count": 13,
   "id": "1d5aa298",
   "metadata": {},
   "outputs": [
    {
     "name": "stdout",
     "output_type": "stream",
     "text": [
      "24/24 [==============================] - 0s 3ms/step\n"
     ]
    }
   ],
   "source": [
    "predictions = (model.predict(x) > 0.5).astype(int)"
   ]
  },
  {
   "cell_type": "code",
   "execution_count": 14,
   "id": "6cdd976e",
   "metadata": {},
   "outputs": [
    {
     "name": "stdout",
     "output_type": "stream",
     "text": [
      "[6.0, 148.0, 72.0, 35.0, 0.0, 33.6, 0.627, 50.0] => 1 (expected 1)\n",
      "[1.0, 85.0, 66.0, 29.0, 0.0, 26.6, 0.351, 31.0] => 0 (expected 0)\n",
      "[8.0, 183.0, 64.0, 0.0, 0.0, 23.3, 0.672, 32.0] => 1 (expected 1)\n",
      "[1.0, 89.0, 66.0, 23.0, 94.0, 28.1, 0.167, 21.0] => 0 (expected 0)\n",
      "[0.0, 137.0, 40.0, 35.0, 168.0, 43.1, 2.288, 33.0] => 1 (expected 1)\n"
     ]
    }
   ],
   "source": [
    "for i in range(5):\n",
    "    print('%s => %d (expected %d)' % (x[i].tolist(), predictions[i], y[i]))"
   ]
  },
  {
   "cell_type": "code",
   "execution_count": 17,
   "id": "14d2f493",
   "metadata": {},
   "outputs": [
    {
     "name": "stdout",
     "output_type": "stream",
     "text": [
      "Precision Score is: 0.7723880597014925\n",
      "Recall Score is: 0.69\n"
     ]
    }
   ],
   "source": [
    "from sklearn.metrics import precision_score, recall_score\n",
    "print('Precision Score is:', precision_score(predictions, y))\n",
    "print('Recall Score is:', recall_score(predictions, y))"
   ]
  },
  {
   "cell_type": "code",
   "execution_count": 15,
   "id": "02fc955c",
   "metadata": {},
   "outputs": [
    {
     "name": "stdout",
     "output_type": "stream",
     "text": [
      "0.7104247104247104\n"
     ]
    }
   ],
   "source": [
    "from sklearn.metrics import f1_score\n",
    "print(f1_score(predictions, y))"
   ]
  }
 ],
 "metadata": {
  "kernelspec": {
   "display_name": "Python 3 (ipykernel)",
   "language": "python",
   "name": "python3"
  },
  "language_info": {
   "codemirror_mode": {
    "name": "ipython",
    "version": 3
   },
   "file_extension": ".py",
   "mimetype": "text/x-python",
   "name": "python",
   "nbconvert_exporter": "python",
   "pygments_lexer": "ipython3",
   "version": "3.9.12"
  }
 },
 "nbformat": 4,
 "nbformat_minor": 5
}
